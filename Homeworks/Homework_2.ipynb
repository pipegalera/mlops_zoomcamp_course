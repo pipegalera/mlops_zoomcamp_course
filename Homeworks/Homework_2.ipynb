{
 "cells": [
  {
   "cell_type": "markdown",
   "id": "a93667c4",
   "metadata": {},
   "source": [
    "## Homework\n",
    "\n",
    "The goal of this homework is to get familiar with MLflow, the tool for experiment tracking and \n",
    "model management.\n",
    "\n",
    "\n",
    "## Q1. Install MLflow\n",
    "\n",
    "To get started with MLflow you'll need to install the MLflow Python package.\n",
    "\n",
    "For this we recommend creating a separate Python environment, for example, you can use [conda environments](https://docs.conda.io/projects/conda/en/latest/user-guide/getting-started.html#managing-envs), and then install the package there with `pip` or `conda`.\n",
    "\n",
    "Once you installed the package, run the command `mlflow --version` and check the output.\n",
    "\n",
    "What's the version that you have?\n"
   ]
  },
  {
   "cell_type": "code",
   "execution_count": 106,
   "id": "59941d72",
   "metadata": {},
   "outputs": [
    {
     "name": "stdout",
     "output_type": "stream",
     "text": [
      "mlflow, version 2.12.1\n"
     ]
    }
   ],
   "source": [
    "!mlflow --version"
   ]
  },
  {
   "cell_type": "markdown",
   "id": "66e4d567",
   "metadata": {},
   "source": [
    "## Q2. Download and preprocess the data\n",
    "\n",
    "We'll use the Green Taxi Trip Records dataset to predict the duration of each trip. \n",
    "\n",
    "Download the data for January, February and March 2023 in parquet format from [here](https://www1.nyc.gov/site/tlc/about/tlc-trip-record-data.page).\n",
    "\n",
    "Use the script `preprocess_data.py` located in the folder [`homework`](homework) to preprocess the data.\n",
    "\n",
    "The script will:\n",
    "\n",
    "* load the data from the folder `<TAXI_DATA_FOLDER>` (the folder where you have downloaded the data),\n",
    "* fit a `DictVectorizer` on the training set (January 2023 data),\n",
    "* save the preprocessed datasets and the `DictVectorizer` to disk.\n",
    "\n",
    "Your task is to download the datasets and then execute this command:\n",
    "\n",
    "```\n",
    "python preprocess_data.py --raw_data_path <TAXI_DATA_FOLDER> --dest_path ./output\n",
    "```\n",
    "\n",
    "Tip: go to `02-experiment-tracking/homework/` folder before executing the command and change the value of `<TAXI_DATA_FOLDER>` to the location where you saved the data.\n",
    "\n",
    "How many files were saved to `OUTPUT_FOLDER`?\n",
    "\n",
    "* 1\n",
    "* 3\n",
    "* 4 [X]\n",
    "* 7\n"
   ]
  },
  {
   "cell_type": "code",
   "execution_count": 107,
   "id": "f65cbbf2",
   "metadata": {},
   "outputs": [
    {
     "name": "stdout",
     "output_type": "stream",
     "text": [
      "^C\n",
      "Traceback (most recent call last):\n",
      "  File \"/root/dev/mlops_zoomcamp_course/homeworks/preprocess_data.py\", line 6, in <module>\n",
      "    from sklearn.feature_extraction import DictVectorizer\n",
      "  File \"/root/miniconda3/envs/ds/lib/python3.12/site-packages/sklearn/__init__.py\", line 87, in <module>\n",
      "    from .base import clone\n",
      "  File \"/root/miniconda3/envs/ds/lib/python3.12/site-packages/sklearn/base.py\", line 19, in <module>\n",
      "    from .utils import _IS_32BIT\n",
      "  File \"/root/miniconda3/envs/ds/lib/python3.12/site-packages/sklearn/utils/__init__.py\", line 22, in <module>\n",
      "    from ._estimator_html_repr import estimator_html_repr\n",
      "  File \"/root/miniconda3/envs/ds/lib/python3.12/site-packages/sklearn/utils/_estimator_html_repr.py\", line 10, in <module>\n",
      "    from .fixes import parse_version\n",
      "  File \"/root/miniconda3/envs/ds/lib/python3.12/site-packages/sklearn/utils/fixes.py\", line 17, in <module>\n",
      "    import scipy.stats\n",
      "  File \"/root/miniconda3/envs/ds/lib/python3.12/site-packages/scipy/stats/__init__.py\", line 606, in <module>\n",
      "    from ._stats_py import *\n",
      "  File \"/root/miniconda3/envs/ds/lib/python3.12/site-packages/scipy/stats/_stats_py.py\", line 49, in <module>\n",
      "    from . import distributions\n",
      "  File \"/root/miniconda3/envs/ds/lib/python3.12/site-packages/scipy/stats/distributions.py\", line 11, in <module>\n",
      "    from . import _discrete_distns\n",
      "  File \"/root/miniconda3/envs/ds/lib/python3.12/site-packages/scipy/stats/_discrete_distns.py\", line 10, in <module>\n",
      "    from scipy.interpolate import interp1d\n",
      "  File \"/root/miniconda3/envs/ds/lib/python3.12/site-packages/scipy/interpolate/__init__.py\", line 192, in <module>\n",
      "    from . import fitpack, fitpack2, interpolate, ndgriddata, polyint, rbf\n",
      "  File \"<frozen importlib._bootstrap>\", line 1360, in _find_and_load\n",
      "  File \"<frozen importlib._bootstrap>\", line 1339, in _find_and_load_unlocked\n",
      "KeyboardInterrupt\n"
     ]
    }
   ],
   "source": [
    "!python preprocess_data.py --raw_data_path /root/dev/mlops_zoomcamp_course/data/raw/2023 --dest_path ./output"
   ]
  },
  {
   "cell_type": "code",
   "execution_count": null,
   "id": "f79c346d",
   "metadata": {},
   "outputs": [
    {
     "data": {
      "text/plain": [
       "['train.pkl', 'test.pkl', 'val.pkl', 'dv.pkl']"
      ]
     },
     "execution_count": 2,
     "metadata": {},
     "output_type": "execute_result"
    }
   ],
   "source": [
    "import os\n",
    "os.listdir(os.getcwd() + \"/output\")"
   ]
  },
  {
   "cell_type": "markdown",
   "id": "dc6f59be",
   "metadata": {},
   "source": [
    "## Q3. Train a model with autolog\n",
    "\n",
    "We will train a `RandomForestRegressor` (from Scikit-Learn) on the taxi dataset.\n",
    "\n",
    "We have prepared the training script `train.py` for this exercise, which can be also found in the folder `homework`. \n",
    "\n",
    "The script will:\n",
    "\n",
    "* load the datasets produced by the previous step,\n",
    "* train the model on the training set,\n",
    "* calculate the RMSE score on the validation set.\n",
    "\n",
    "Your task is to modify the script to enable **autologging** with MLflow, execute the script and then launch the MLflow UI to check that the experiment run was properly tracked. \n",
    "\n",
    "Tip 1: don't forget to wrap the training code with a `with mlflow.start_run():` statement as we showed in the videos.\n",
    "\n",
    "Tip 2: don't modify the hyperparameters of the model to make sure that the training will finish quickly.\n",
    "\n",
    "What is the value of the `min_samples_split` parameter:\n",
    "\n",
    "* 2 [X]\n",
    "* 4\n",
    "* 8\n",
    "* 10"
   ]
  },
  {
   "cell_type": "code",
   "execution_count": null,
   "id": "d89c0948",
   "metadata": {},
   "outputs": [],
   "source": [
    "#mlflow ui --backend-store-uri sqlite:///mlflow.db\n",
    "#mlflow server --host 0.0.0.0"
   ]
  },
  {
   "cell_type": "code",
   "execution_count": null,
   "id": "01c98f8f",
   "metadata": {},
   "outputs": [
    {
     "name": "stdout",
     "output_type": "stream",
     "text": [
      "2024/05/23 10:06:15 INFO mlflow.tracking.fluent: Experiment with name 'train.py' does not exist. Creating a new experiment.\n",
      "2024/05/23 10:06:15 WARNING mlflow.sklearn: Failed to log training dataset information to MLflow Tracking. Reason: 'numpy.ndarray' object has no attribute 'toarray'\n"
     ]
    }
   ],
   "source": [
    "!python train.py --data_path \"/root/dev/mlops_zoomcamp_course/homeworks/output/\""
   ]
  },
  {
   "cell_type": "markdown",
   "id": "e3e5deee",
   "metadata": {},
   "source": [
    "![](mlflow_screenshot.png)"
   ]
  },
  {
   "cell_type": "markdown",
   "id": "240a8194",
   "metadata": {},
   "source": [
    "## Q4. Launch the tracking server locally\n",
    "\n",
    "Now we want to manage the entire lifecycle of our ML model. In this step, you'll need to launch a tracking server. This way we will also have access to the model registry. \n",
    "\n",
    "Your task is to:\n",
    "\n",
    "* launch the tracking server on your local machine,\n",
    "* select a SQLite db for the backend store and a folder called `artifacts` for the artifacts store.\n",
    "\n",
    "You should keep the tracking server running to work on the next two exercises that use the server.\n",
    "\n",
    "In addition to `backend-store-uri`, what else do you need to pass to properly configure the server?\n",
    "\n",
    "* `default-artifact-root`\n",
    "* `serve-artifacts`\n",
    "* `artifacts-only`\n",
    "* `artifacts-destination` [X]"
   ]
  },
  {
   "cell_type": "code",
   "execution_count": null,
   "id": "cd2b5772",
   "metadata": {},
   "outputs": [],
   "source": [
    "#mlflow server --host 0.0.0.0 --artifacts-destination \"/root/dev/mlops_zoomcamp_course/homeworks/artifacts/\""
   ]
  },
  {
   "cell_type": "markdown",
   "id": "97fb0778",
   "metadata": {},
   "source": [
    "## Q5. Tune model hyperparameters\n",
    "\n",
    "Now let's try to reduce the validation error by tuning the hyperparameters of the `RandomForestRegressor` using `hyperopt`. \n",
    "We have prepared the script `hpo.py` for this exercise. \n",
    "\n",
    "Your task is to modify the script `hpo.py` and make sure that the validation RMSE is logged to the tracking server for each run of the hyperparameter optimization (you will need to add a few lines of code to the `objective` function) and run the script without passing any parameters.\n",
    "\n",
    "After that, open UI and explore the runs from the experiment called `random-forest-hyperopt` to answer the question below.\n",
    "\n",
    "Note: Don't use autologging for this exercise.\n",
    "\n",
    "The idea is to just log the information that you need to answer the question below, including:\n",
    "\n",
    "* the list of hyperparameters that are passed to the `objective` function during the optimization,\n",
    "* the RMSE obtained on the validation set (February 2023 data).\n",
    "\n",
    "What's the best validation RMSE that you got?\n",
    "\n",
    "* 4.817\n",
    "* 5.335 [X]\n",
    "* 5.818\n",
    "* 6.336"
   ]
  },
  {
   "cell_type": "code",
   "execution_count": null,
   "id": "5797ce72",
   "metadata": {},
   "outputs": [
    {
     "name": "stdout",
     "output_type": "stream",
     "text": [
      "2024/05/23 10:06:28 INFO mlflow.tracking.fluent: Experiment with name 'hpo.py' does not exist. Creating a new experiment.\n",
      "100%|██████████| 15/15 [00:32<00:00,  2.18s/trial, best loss: 5.335419588556921]\n"
     ]
    }
   ],
   "source": [
    "!python hpo.py --data_path \"/root/dev/mlops_zoomcamp_course/homeworks/output/\""
   ]
  },
  {
   "cell_type": "markdown",
   "id": "c34d4411",
   "metadata": {},
   "source": [
    "## Q6. Promote the best model to the model registry\n",
    "\n",
    "The results from the hyperparameter optimization are quite good. So, we can assume that we are ready to test some of these models in production. \n",
    "In this exercise, you'll promote the best model to the model registry. We have prepared a script called `register_model.py`, which will check the results from the previous step and select the top 5 runs. \n",
    "After that, it will calculate the RMSE of those models on the test set (March 2023 data) and save the results to a new experiment called `random-forest-best-models`.\n",
    "\n",
    "Your task is to update the script `register_model.py` so that it selects the model with the lowest RMSE on the test set and registers it to the model registry.\n",
    "\n",
    "Tip 1: you can use the method `search_runs` from the `MlflowClient` to get the model with the lowest RMSE,\n",
    "\n",
    "Tip 2: to register the model you can use the method `mlflow.register_model` and you will need to pass the right `model_uri` in the form of a string that looks like this: `\"runs:/<RUN_ID>/model\"`, and the name of the model (make sure to choose a good one!).\n",
    "\n",
    "What is the test RMSE of the best model?\n",
    "\n",
    "* 5.060\n",
    "* 5.567 [X]\n",
    "* 6.061\n",
    "* 6.568"
   ]
  },
  {
   "cell_type": "code",
   "execution_count": 147,
   "id": "da724cd2",
   "metadata": {},
   "outputs": [
    {
     "name": "stdout",
     "output_type": "stream",
     "text": [
      "2024/05/23 14:43:47 INFO mlflow.tracking.fluent: Experiment with name 'register_model.py' does not exist. Creating a new experiment.\n",
      "training and logging models...\n",
      "Run N = 0 | ID: d5f090f0e0dd432e8cc7f7026ac44958 | Val RMSE: 5.335\n",
      "Run N = 1 | ID: b38b71143415401999f4de687bc065f7 | Val RMSE: 5.355\n",
      "Run N = 2 | ID: 82cac93cbb2d4192a3e88ef83b9c035a | Val RMSE: 5.355\n",
      "Run N = 3 | ID: 950380e7fc8f451fbe0b6882a22632f5 | Val RMSE: 5.357\n",
      "Run N = 4 | ID: 20b6f7cabc244b80a7814492b4330614 | Val RMSE: 5.363\n",
      "------------------------------------\n",
      "Among the 5 models with lower val rmse, the model with the lowest test rmse is:\n",
      "Model ID: d14edb055818461aaab6c97801e22140 | Test RMSE: 5.567\n",
      "Successfully registered model 'best_run_model'.\n",
      "2024/05/23 14:44:12 INFO mlflow.store.model_registry.abstract_store: Waiting up to 300 seconds for model version to finish creation. Model name: best_run_model, version 1\n",
      "Created version '1' of model 'best_run_model'.\n"
     ]
    }
   ],
   "source": [
    "!python register_model.py --data_path \"/root/dev/mlops_zoomcamp_course/homeworks/output/\""
   ]
  }
 ],
 "metadata": {
  "kernelspec": {
   "display_name": "Python 3 (ipykernel)",
   "language": "python",
   "name": "python3"
  },
  "language_info": {
   "codemirror_mode": {
    "name": "ipython",
    "version": 3
   },
   "file_extension": ".py",
   "mimetype": "text/x-python",
   "name": "python",
   "nbconvert_exporter": "python",
   "pygments_lexer": "ipython3",
   "version": "3.12.3"
  }
 },
 "nbformat": 4,
 "nbformat_minor": 5
}
